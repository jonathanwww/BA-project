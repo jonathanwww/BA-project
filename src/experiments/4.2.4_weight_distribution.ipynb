{
 "cells": [
  {
   "cell_type": "code",
   "execution_count": null,
   "metadata": {
    "collapsed": true
   },
   "outputs": [],
   "source": [
    "import numpy as np\n",
    "import matplotlib.pyplot as plt\n",
    "from src.util.util import run_experiment"
   ]
  },
  {
   "cell_type": "code",
   "execution_count": null,
   "outputs": [],
   "source": [
    "bits = [2,3,4,8]\n",
    "\n",
    "for b in bits:\n",
    "   model = run_experiment(BITS=b, ROUND=\"ROUND\", EPOCHS=50, BASELINE=False)\n",
    "\n",
    "   # Examie weights from second layer: fc2\n",
    "   weights = model.fc2.weight.detach().numpy().flatten()\n",
    "   quant_weights = model.fc2.quant_weight().tensor.detach().numpy().flatten()\n",
    "   \n",
    "   # calculate quantization thresholds and quantiation levels\n",
    "   levels = np.unique(quant_weights) \n",
    "   thresholds = (levels[:-1] + levels[1:]) / 2\n",
    "   \n",
    "   # Plotting\n",
    "   plt.figure(figsize=(10, 6))\n",
    "   plt.hist(weights, bins=200, alpha=1, histtype='stepfilled')\n",
    "   \n",
    "   # Plot bin centers\n",
    "   for level in levels:\n",
    "      plt.axvline(level, color='r', linestyle='dashed', linewidth=1, label='Quant. level' if level == levels[0] else \"\")\n",
    "   \n",
    "   # Plot bin borders\n",
    "   for threshold in thresholds:\n",
    "      plt.axvline(threshold, color='r', linestyle='solid', linewidth=2, label='Quant. threshold' if threshold == thresholds[0] else \"\")\n",
    "   \n",
    "   plt.title(f'Latent weight distribution - {b}-bit')\n",
    "   plt.legend(loc='upper right')\n",
    "   plt.grid(False)\n",
    "   plt.show()"
   ],
   "metadata": {
    "collapsed": false
   }
  },
  {
   "cell_type": "code",
   "execution_count": null,
   "outputs": [],
   "source": [
    "# Run a baseline\n",
    "model = run_experiment(BITS=2, ROUND=\"ROUND\", EPOCHS=50, BASELINE=True)\n",
    "\n",
    "# Examie weights from second layer: fc2\n",
    "weights = model.fc2.weight.detach().numpy().flatten()\n",
    "\n",
    "# Plotting\n",
    "plt.figure(figsize=(10, 6))\n",
    "plt.hist(weights, bins=200, alpha=1, histtype='stepfilled')\n",
    "\n",
    "plt.title(f'Baseline weights distribution')\n",
    "plt.legend(loc='upper right')\n",
    "plt.grid(False)\n",
    "plt.show()"
   ],
   "metadata": {
    "collapsed": false
   }
  },
  {
   "cell_type": "code",
   "execution_count": null,
   "outputs": [],
   "source": [],
   "metadata": {
    "collapsed": false
   }
  }
 ],
 "metadata": {
  "kernelspec": {
   "display_name": "Python 3",
   "language": "python",
   "name": "python3"
  },
  "language_info": {
   "codemirror_mode": {
    "name": "ipython",
    "version": 2
   },
   "file_extension": ".py",
   "mimetype": "text/x-python",
   "name": "python",
   "nbconvert_exporter": "python",
   "pygments_lexer": "ipython2",
   "version": "2.7.6"
  }
 },
 "nbformat": 4,
 "nbformat_minor": 0
}
