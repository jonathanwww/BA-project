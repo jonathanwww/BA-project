{
 "cells": [
  {
   "cell_type": "code",
   "execution_count": 1,
   "outputs": [
    {
     "name": "stdout",
     "output_type": "stream",
     "text": [
      "Files already downloaded and verified\n",
      "Files already downloaded and verified\n"
     ]
    },
    {
     "name": "stderr",
     "output_type": "stream",
     "text": [
      "/Users/jonathanwenshoej/miniforge3/envs/BA-project/lib/python3.10/site-packages/torch/_tensor.py:1419: UserWarning: Named tensors and all their associated APIs are an experimental feature and subject to change. Please do not use them for anything important until they are released as stable. (Triggered internally at /Users/runner/miniforge3/conda-bld/libtorch_1719361051023/work/c10/core/TensorImpl.h:1924.)\n",
      "  return super().rename(names)\n"
     ]
    },
    {
     "name": "stdout",
     "output_type": "stream",
     "text": [
      "Train Epoch: 0 [0/50000 (0%)]\tLoss: 2.301631\n",
      "Train Epoch: 0 [12800/50000 (26%)]\tLoss: 1.791665\n",
      "Train Epoch: 0 [25600/50000 (51%)]\tLoss: 1.770732\n",
      "Train Epoch: 0 [38400/50000 (77%)]\tLoss: 1.526302\n",
      "\n",
      "Test set: Average loss: 0.0127, Accuracy: 4221/10000 (42.21%)\n",
      "\n",
      "Epoch 0: Train Loss: 1.761767, Test Loss: 0.012697\n",
      "L0 Norm: 17703.000000, L1 Norm: 2041.247505, L2 Norm: 32.253666\n",
      "Train Epoch: 1 [0/50000 (0%)]\tLoss: 1.672919\n",
      "Train Epoch: 1 [12800/50000 (26%)]\tLoss: 1.509367\n",
      "Train Epoch: 1 [25600/50000 (51%)]\tLoss: 1.651367\n",
      "Train Epoch: 1 [38400/50000 (77%)]\tLoss: 1.481799\n",
      "\n",
      "Test set: Average loss: 0.0121, Accuracy: 4554/10000 (45.54%)\n",
      "\n",
      "Epoch 1: Train Loss: 1.580117, Test Loss: 0.012068\n",
      "L0 Norm: 18122.000000, L1 Norm: 2426.363026, L2 Norm: 35.610047\n",
      "Train Epoch: 2 [0/50000 (0%)]\tLoss: 1.461265\n",
      "Train Epoch: 2 [12800/50000 (26%)]\tLoss: 1.455756\n",
      "Train Epoch: 2 [25600/50000 (51%)]\tLoss: 1.560048\n",
      "Train Epoch: 2 [38400/50000 (77%)]\tLoss: 1.446698\n",
      "\n",
      "Test set: Average loss: 0.0119, Accuracy: 4616/10000 (46.16%)\n",
      "\n",
      "Epoch 2: Train Loss: 1.517968, Test Loss: 0.011906\n",
      "L0 Norm: 20440.000000, L1 Norm: 2940.692379, L2 Norm: 38.658958\n"
     ]
    }
   ],
   "source": [
    "import numpy as np\n",
    "import matplotlib.pyplot as plt\n",
    "from src.util.util import run_experiment\n",
    "\n",
    "# test\n",
    "model, train_losses, test_losses, l0_norms, l1_norms, l2_norms = run_experiment(BITS=2, ROUND=\"ROUND\", EPOCHS=2, BASELINE=False)"
   ],
   "metadata": {
    "collapsed": false,
    "ExecuteTime": {
     "end_time": "2024-07-02T09:42:02.016407Z",
     "start_time": "2024-07-02T09:41:37.581666Z"
    }
   }
  },
  {
   "cell_type": "code",
   "execution_count": null,
   "outputs": [],
   "source": [
    "def run_multiple_experiments(bits, num_runs, epochs):\n",
    "    results = {}\n",
    "    \n",
    "    for bit in bits:\n",
    "        bit_results = {\n",
    "            'train_losses': [],\n",
    "            'test_losses': [],\n",
    "            'l0_norms': [],\n",
    "            'l1_norms': [],\n",
    "            'l2_norms': []\n",
    "        }\n",
    "        \n",
    "        for _ in range(num_runs):\n",
    "            model, train_losses, test_losses, l0_norms, l1_norms, l2_norms = run_experiment(\n",
    "                BITS=bit, ROUND=\"ROUND\", EPOCHS=epochs, BASELINE=(bit == 32)\n",
    "            )\n",
    "            \n",
    "            bit_results['train_losses'].append(train_losses)\n",
    "            bit_results['test_losses'].append(test_losses)\n",
    "            bit_results['l0_norms'].append(l0_norms)\n",
    "            bit_results['l1_norms'].append(l1_norms)\n",
    "            bit_results['l2_norms'].append(l2_norms)\n",
    "        \n",
    "        # Calculate averages\n",
    "        avg_results = {\n",
    "            'avg_train_losses': np.mean(bit_results['train_losses'], axis=0),\n",
    "            'avg_test_losses': np.mean(bit_results['test_losses'], axis=0),\n",
    "            'avg_l0_norms': np.mean(bit_results['l0_norms'], axis=0),\n",
    "            'avg_l1_norms': np.mean(bit_results['l1_norms'], axis=0),\n",
    "            'avg_l2_norms': np.mean(bit_results['l2_norms'], axis=0)\n",
    "        }\n",
    "        \n",
    "        results[bit] = avg_results\n",
    "    \n",
    "    return results\n",
    "\n",
    "def plot_norms(results, bits, epochs):\n",
    "    fig, (ax1, ax2, ax3) = plt.subplots(3, 1, figsize=(10, 15))\n",
    "    for bit in bits:\n",
    "        epochs_range = range(1, epochs + 1)\n",
    "        ax1.plot(epochs_range, results[bit]['avg_l0_norms'], label=f'{bit}-bit')\n",
    "        ax2.plot(epochs_range, results[bit]['avg_l1_norms'], label=f'{bit}-bit')\n",
    "        ax3.plot(epochs_range, results[bit]['avg_l2_norms'], label=f'{bit}-bit')\n",
    "    \n",
    "    ax1.set_title('L0 Norm')\n",
    "    ax2.set_title('L1 Norm')\n",
    "    ax3.set_title('L2 Norm')\n",
    "    \n",
    "    for ax in (ax1, ax2, ax3):\n",
    "        ax.set_xlabel('Epochs')\n",
    "        ax.set_ylabel('Norm Value')\n",
    "        ax.legend()\n",
    "        ax.grid(True)\n",
    "    \n",
    "    plt.tight_layout()\n",
    "    plt.savefig('norms_plot.png')\n",
    "    plt.close()\n",
    "\n",
    "def plot_losses(results, bits, epochs):\n",
    "    fig, (ax1, ax2) = plt.subplots(2, 1, figsize=(10, 10))\n",
    "    for bit in bits:\n",
    "        epochs_range = range(1, epochs + 1)\n",
    "        ax1.plot(epochs_range, results[bit]['avg_train_losses'], label=f'{bit}-bit (Train)')\n",
    "        ax1.plot(epochs_range, results[bit]['avg_test_losses'], label=f'{bit}-bit (Test)', linestyle='--')\n",
    "    \n",
    "    ax1.set_title('Train and Test Losses')\n",
    "    ax1.set_xlabel('Epochs')\n",
    "    ax1.set_ylabel('Loss')\n",
    "    ax1.legend()\n",
    "    ax1.grid(True)\n",
    "    \n",
    "    for bit in bits:\n",
    "        epochs_range = range(1, epochs + 1)\n",
    "        test_train_diff = np.array(results[bit]['avg_test_losses']) - np.array(results[bit]['avg_train_losses'])\n",
    "        ax2.plot(epochs_range, test_train_diff, label=f'{bit}-bit')\n",
    "    \n",
    "    ax2.set_title('Test Loss - Train Loss')\n",
    "    ax2.set_xlabel('Epochs')\n",
    "    ax2.set_ylabel('Generalization gap')\n",
    "    ax2.legend()\n",
    "    ax2.grid(True)\n",
    "    \n",
    "    plt.tight_layout()\n",
    "    plt.savefig('losses_plot.png')\n",
    "    plt.close()\n",
    "\n",
    "# Run experiments\n",
    "bits = [2, 3, 4, 8, 32]\n",
    "num_runs = 5\n",
    "epochs = 50\n",
    "\n",
    "results = run_multiple_experiments(bits, num_runs, epochs)\n",
    "\n",
    "# Create plots\n",
    "plot_norms(results, bits, epochs)\n",
    "plot_losses(results, bits, epochs)"
   ],
   "metadata": {
    "collapsed": false
   }
  }
 ],
 "metadata": {
  "kernelspec": {
   "display_name": "Python 3",
   "language": "python",
   "name": "python3"
  },
  "language_info": {
   "codemirror_mode": {
    "name": "ipython",
    "version": 2
   },
   "file_extension": ".py",
   "mimetype": "text/x-python",
   "name": "python",
   "nbconvert_exporter": "python",
   "pygments_lexer": "ipython2",
   "version": "2.7.6"
  }
 },
 "nbformat": 4,
 "nbformat_minor": 0
}
